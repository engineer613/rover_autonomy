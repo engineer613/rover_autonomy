{
 "cells": [
  {
   "cell_type": "code",
   "execution_count": 62,
   "id": "d6659b76-6126-4691-92fb-50634c020079",
   "metadata": {},
   "outputs": [],
   "source": [
    "import serial"
   ]
  },
  {
   "cell_type": "code",
   "execution_count": 63,
   "id": "a153a517-4808-4e4d-b793-7fdd9748894b",
   "metadata": {},
   "outputs": [],
   "source": [
    "ser = serial.Serial(\n",
    "    port=\"/dev/gps\",\n",
    "    baudrate=115200,        # adjust to your GPS baudrate\n",
    "    bytesize=serial.EIGHTBITS,\n",
    "    parity=serial.PARITY_NONE,\n",
    "    stopbits=serial.STOPBITS_ONE,\n",
    "    timeout=1               # seconds; helps with live reading\n",
    ")"
   ]
  },
  {
   "cell_type": "code",
   "execution_count": 89,
   "id": "c6a3c910-5615-47cd-b247-bdb82ddcdc8c",
   "metadata": {},
   "outputs": [],
   "source": [
    "import struct\n",
    "\n",
    "header_format = \"<3B B H H B B H I I B B H\"\n",
    "payload_format = \"<I 33s 129s 66s 33s 43s I\"\n",
    "\n",
    "header_size = struct.calcsize(header_format)\n",
    "payload_size = struct.calcsize(payload_format)\n",
    "total_size = header_size + payload_size\n",
    "\n",
    "\n",
    "\n",
    "def hxprint(bytes):\n",
    "    print(' '.join('{:02x}'.format(byte) for byte in bytes))"
   ]
  },
  {
   "cell_type": "code",
   "execution_count": 77,
   "id": "4573920c-9156-4c10-b532-c96211084ccd",
   "metadata": {},
   "outputs": [
    {
     "name": "stdout",
     "output_type": "stream",
     "text": [
      "aa44b5\n"
     ]
    }
   ],
   "source": [
    "msg = ser.read(336)\n",
    "sync_bytes = msg[:3]\n",
    "\n",
    "print(sync_bytes.hex()) \n",
    "\n",
    "\n",
    "\n"
   ]
  },
  {
   "cell_type": "code",
   "execution_count": 90,
   "id": "9435afd7-5bd0-4bcf-8651-04ede471e4ff",
   "metadata": {},
   "outputs": [
    {
     "name": "stdout",
     "output_type": "stream",
     "text": [
      "aa 44 b5 61 25 00 34 01 00 a0 3d 09 28 40 e0 07 00 00 00 00 00 12 01 00 11 00 00 00 39 39 38 34 00 00 00 00 00 00 00 00 00 00 00 00 00 00 00 00 00 00 00 00 00 00 00 00 00 00 00 00 00 48 52 50 54 30 30 2d 53 31 30 43 2d 50 00 00 00 00 00 00 00 00 00 00 00 00 00 00 00 00 00 00 00 00 00 00 00 00 00 00 00 00 00 00 00 00 00 00 00 00 00 00 00 00 00 00 00 00 00 00 00 00 00 00 00 00 00 00 00 00 00 00 00 00 00 00 00 00 00 00 00 00 00 00 00 00 00 00 00 00 00 00 00 00 00 00 00 00 00 00 00 00 00 00 00 00 00 00 00 00 00 00 00 00 00 00 00 00 00 00 00 00 00 00 00 00 00 00 00 00 32 33 31 30 34 31 35 30 30 30 30 31 32 2d 4c 52 32 33 41 32 32 33 33 31 30 30 35 30 35 00 00 00 00 00 00 00 00 00 00 00 00 00 00 00 00 00 00 00 00 00 00 00 00 00 00 00 00 00 00 00 00 00 00 00 00 00 66 66 33 62 66 35 39 31 36 62 34 65 34 65 64 63 00 00 00 00 00 00 00 00 00 00 00 00 00 00 00 00 00 32 30 32 33 2f 30 36 2f 30 31 00 00 00 00 00 00 00 00 00 00 00 00 00 00 00 00 00 00 00 00 00 00 00 00 00 00 00 00 00 00 00 00 00 1f f8 9c a1\n"
     ]
    }
   ],
   "source": [
    "hxprint(msg)"
   ]
  },
  {
   "cell_type": "code",
   "execution_count": 94,
   "id": "735b5229-2eb8-4a02-9290-245d34044ad2",
   "metadata": {},
   "outputs": [
    {
     "name": "stdout",
     "output_type": "stream",
     "text": [
      "37\n"
     ]
    }
   ],
   "source": [
    "id = msg[4:6]\n",
    "#hxprint(id)\n",
    "msg_id = int.from_bytes(id, byteorder='little')\n",
    "print(msg_id)"
   ]
  },
  {
   "cell_type": "code",
   "execution_count": 95,
   "id": "8917436c-df5e-4003-9874-bb58cb838138",
   "metadata": {},
   "outputs": [
    {
     "name": "stdout",
     "output_type": "stream",
     "text": [
      "308\n"
     ]
    }
   ],
   "source": [
    "len_bytes = msg[6:8]\n",
    "msg_len = int.from_bytes(len_bytes, byteorder='little')\n",
    "print(msg_len)"
   ]
  },
  {
   "cell_type": "code",
   "execution_count": 99,
   "id": "69007f83-5e58-4898-bc6e-932c86ae5712",
   "metadata": {},
   "outputs": [
    {
     "name": "stdout",
     "output_type": "stream",
     "text": [
      "97\n"
     ]
    }
   ],
   "source": [
    "cpu_bytes = msg[3:4]\n",
    "cpuidle = int.from_bytes(cpu_bytes, byteorder='little')\n",
    "print(cpuidle)"
   ]
  },
  {
   "cell_type": "code",
   "execution_count": null,
   "id": "817d1e99-9ed5-4664-9ea7-0adee012f049",
   "metadata": {},
   "outputs": [],
   "source": []
  }
 ],
 "metadata": {
  "kernelspec": {
   "display_name": "Python 3.5",
   "language": "python",
   "name": "py35"
  },
  "language_info": {
   "codemirror_mode": {
    "name": "ipython",
    "version": 3
   },
   "file_extension": ".py",
   "mimetype": "text/x-python",
   "name": "python",
   "nbconvert_exporter": "python",
   "pygments_lexer": "ipython3",
   "version": "3.5.6"
  }
 },
 "nbformat": 4,
 "nbformat_minor": 5
}
